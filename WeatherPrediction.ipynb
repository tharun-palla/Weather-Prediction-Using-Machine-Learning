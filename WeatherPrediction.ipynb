{
 "cells": [
  {
   "cell_type": "code",
   "execution_count": 52,
   "metadata": {},
   "outputs": [
    {
     "name": "stdout",
     "output_type": "stream",
     "text": [
      "(16859, 35)\n",
      "<class 'pandas.core.frame.DataFrame'>\n",
      "Index: 16859 entries, 1960-01-01 to 2022-01-28\n",
      "Data columns (total 35 columns):\n",
      " #   Column   Non-Null Count  Dtype  \n",
      "---  ------   --------------  -----  \n",
      " 0   STATION  16859 non-null  object \n",
      " 1   NAME     16859 non-null  object \n",
      " 2   ACMH     5844 non-null   float64\n",
      " 3   ACSH     5844 non-null   float64\n",
      " 4   AWND     8051 non-null   float64\n",
      " 5   DAPR     8 non-null      float64\n",
      " 6   FMTM     2190 non-null   float64\n",
      " 7   FRGT     2 non-null      float64\n",
      " 8   MDPR     8 non-null      float64\n",
      " 9   PGTM     8512 non-null   float64\n",
      " 10  PRCP     16578 non-null  float64\n",
      " 11  SNOW     11380 non-null  float64\n",
      " 12  SNWD     11504 non-null  float64\n",
      " 13  TAVG     2037 non-null   float64\n",
      " 14  TMAX     16850 non-null  float64\n",
      " 15  TMIN     16849 non-null  float64\n",
      " 16  TSUN     1151 non-null   float64\n",
      " 17  WDF1     5844 non-null   float64\n",
      " 18  WDF2     8052 non-null   float64\n",
      " 19  WDF5     7965 non-null   float64\n",
      " 20  WDFG     4267 non-null   float64\n",
      " 21  WSF1     5844 non-null   float64\n",
      " 22  WSF2     8053 non-null   float64\n",
      " 23  WSF5     7965 non-null   float64\n",
      " 24  WSFG     4267 non-null   float64\n",
      " 25  WT01     3710 non-null   float64\n",
      " 26  WT02     333 non-null    float64\n",
      " 27  WT03     119 non-null    float64\n",
      " 28  WT04     4 non-null      float64\n",
      " 29  WT05     28 non-null     float64\n",
      " 30  WT07     2 non-null      float64\n",
      " 31  WT08     3197 non-null   float64\n",
      " 32  WT09     2 non-null      float64\n",
      " 33  WT16     1955 non-null   float64\n",
      " 34  WT18     3 non-null      float64\n",
      "dtypes: float64(33), object(2)\n",
      "memory usage: 4.6+ MB\n",
      "None\n"
     ]
    }
   ],
   "source": [
    "# Reading in the initial data\n",
    "\n",
    "import pandas as pd\n",
    "\n",
    "weather = pd.read_csv(\"local_weather.csv\", index_col=\"DATE\")\n",
    "print(weather.shape)\n",
    "print(weather.info())"
   ]
  },
  {
   "cell_type": "code",
   "execution_count": 53,
   "metadata": {},
   "outputs": [],
   "source": [
    "# Extended Names of Required ColumnsPRCP — total precipitation\n",
    "# TMAX — maximum daily temperature\n",
    "# TMIN — minimum daily temperature\n",
    "# SNOW — the total daily snowfall\n",
    "# SNWD — total snow depth on the ground :\n",
    "# PRCP — total precipitation\n",
    "# TMAX — maximum daily temperature\n",
    "# TMIN — minimum daily temperature\n",
    "# SNOW — the total daily snowfall\n",
    "# SNWD — total snow depth on the ground"
   ]
  },
  {
   "cell_type": "code",
   "execution_count": 54,
   "metadata": {},
   "outputs": [
    {
     "name": "stdout",
     "output_type": "stream",
     "text": [
      "<class 'pandas.core.frame.DataFrame'>\n",
      "Index: 16859 entries, 1960-01-01 to 2022-01-28\n",
      "Data columns (total 6 columns):\n",
      " #   Column   Non-Null Count  Dtype  \n",
      "---  ------   --------------  -----  \n",
      " 0   STATION  16859 non-null  object \n",
      " 1   PRCP     16578 non-null  float64\n",
      " 2   TMAX     16850 non-null  float64\n",
      " 3   TMIN     16849 non-null  float64\n",
      " 4   SNOW     11380 non-null  float64\n",
      " 5   SNWD     11504 non-null  float64\n",
      "dtypes: float64(5), object(1)\n",
      "memory usage: 922.0+ KB\n"
     ]
    }
   ],
   "source": [
    "weather = weather[[\"STATION\",\"PRCP\",\"TMAX\",\"TMIN\",\"SNOW\",\"SNWD\"]]\n",
    "weather.info()"
   ]
  },
  {
   "cell_type": "code",
   "execution_count": 55,
   "metadata": {},
   "outputs": [
    {
     "name": "stdout",
     "output_type": "stream",
     "text": [
      "Number of Missing Values: STATION       0\n",
      "PRCP        281\n",
      "TMAX          9\n",
      "TMIN         10\n",
      "SNOW       5479\n",
      "SNWD       5355\n",
      "dtype: int64\n"
     ]
    }
   ],
   "source": [
    "print (\"Number of Missing Values: {0}\".format(weather.isna().sum()))"
   ]
  },
  {
   "cell_type": "code",
   "execution_count": 56,
   "metadata": {},
   "outputs": [
    {
     "name": "stdout",
     "output_type": "stream",
     "text": [
      "               SNOW     SNWD\n",
      "count  11380.000000  11504.0\n",
      "mean       0.000088      0.0\n",
      "std        0.009374      0.0\n",
      "min        0.000000      0.0\n",
      "50%        0.000000      0.0\n",
      "max        1.000000      0.0\n",
      "Number of Missing Values: SNOW    5479\n",
      "SNWD    5355\n",
      "dtype: int64\n"
     ]
    }
   ],
   "source": [
    "#Investigating SNOW and SNWD Columns\n",
    "print(weather[[\"SNOW\",\"SNWD\"]].describe(()))\n",
    "print (\"Number of Missing Values: {0}\".format(weather[[\"SNOW\",\"SNWD\"]].isna().sum()))\n"
   ]
  },
  {
   "cell_type": "code",
   "execution_count": 57,
   "metadata": {},
   "outputs": [
    {
     "name": "stdout",
     "output_type": "stream",
     "text": [
      "<class 'pandas.core.frame.DataFrame'>\n",
      "Index: 16859 entries, 1960-01-01 to 2022-01-28\n",
      "Data columns (total 4 columns):\n",
      " #   Column   Non-Null Count  Dtype  \n",
      "---  ------   --------------  -----  \n",
      " 0   STATION  16859 non-null  object \n",
      " 1   PRCP     16578 non-null  float64\n",
      " 2   TMAX     16850 non-null  float64\n",
      " 3   TMIN     16849 non-null  float64\n",
      "dtypes: float64(3), object(1)\n",
      "memory usage: 658.6+ KB\n"
     ]
    }
   ],
   "source": [
    "#Dropping the SNOW and SNWD Columns as they donot contain any information\n",
    "weather = weather.drop([\"SNOW\",\"SNWD\"], axis = 1)\n",
    "weather.info()"
   ]
  },
  {
   "cell_type": "code",
   "execution_count": 58,
   "metadata": {},
   "outputs": [
    {
     "name": "stdout",
     "output_type": "stream",
     "text": [
      "               TMIN          TMAX\n",
      "count  16849.000000  16850.000000\n",
      "mean      50.431539     65.675668\n",
      "std        6.739899      8.382314\n",
      "min        1.000000     38.000000\n",
      "25%       46.000000     60.000000\n",
      "50%       51.000000     65.000000\n",
      "75%       56.000000     71.000000\n",
      "max       69.000000    122.000000\n",
      "Number of Missing Values: TMIN    10\n",
      "TMAX     9\n",
      "dtype: int64\n",
      "            TMIN  TMAX\n",
      "DATE                  \n",
      "1960-01-01  30.0  49.0\n",
      "1960-01-02  29.0  49.0\n",
      "1960-01-03  35.0  54.0\n",
      "1960-01-04  36.0  54.0\n",
      "1960-01-05  33.0  55.0\n"
     ]
    }
   ],
   "source": [
    "#TMIN and TMAX\n",
    "print(weather[[\"TMIN\",\"TMAX\"]].describe())\n",
    "print (\"Number of Missing Values: {0}\".format(weather[[\"TMIN\",\"TMAX\"]].isna().sum()))\n",
    "print(weather[[\"TMIN\",\"TMAX\"]].head())"
   ]
  },
  {
   "cell_type": "code",
   "execution_count": 59,
   "metadata": {},
   "outputs": [
    {
     "name": "stdout",
     "output_type": "stream",
     "text": [
      "Number of Measurement Errors : STATION    0.0\n",
      "PRCP       0.0\n",
      "TMAX       0.0\n",
      "TMIN       0.0\n",
      "dtype: float64\n"
     ]
    }
   ],
   "source": [
    "#Checking if data contains any measurement error\n",
    "print(\"Number of Measurement Errors : {0}\".format(weather.where(weather == 9999).sum()))"
   ]
  },
  {
   "cell_type": "code",
   "execution_count": null,
   "metadata": {},
   "outputs": [],
   "source": []
  },
  {
   "cell_type": "code",
   "execution_count": null,
   "metadata": {},
   "outputs": [],
   "source": []
  }
 ],
 "metadata": {
  "kernelspec": {
   "display_name": "Python 3",
   "language": "python",
   "name": "python3"
  },
  "language_info": {
   "codemirror_mode": {
    "name": "ipython",
    "version": 3
   },
   "file_extension": ".py",
   "mimetype": "text/x-python",
   "name": "python",
   "nbconvert_exporter": "python",
   "pygments_lexer": "ipython3",
   "version": "3.8.2"
  }
 },
 "nbformat": 4,
 "nbformat_minor": 4
}
